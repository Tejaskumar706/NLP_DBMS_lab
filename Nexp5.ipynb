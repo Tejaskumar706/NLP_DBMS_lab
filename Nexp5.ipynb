{
 "cells": [
  {
   "cell_type": "code",
   "execution_count": 1,
   "id": "c4b002d1",
   "metadata": {},
   "outputs": [],
   "source": [
    "import io \n",
    "from nltk.corpus import stopwords \n",
    "from nltk.tokenize import word_tokenize \n",
    "  \n",
    "# word_tokenize accepts\n",
    "# a string as an input, not a file. \n",
    "stop_words = set(stopwords.words('english')) \n",
    "file1 = open(\"text.txt\",'r')\n",
    "  \n",
    "# Use this to read file content as a stream: \n",
    "line = file1.read()"
   ]
  },
  {
   "cell_type": "code",
   "execution_count": 2,
   "id": "10d120b4",
   "metadata": {},
   "outputs": [],
   "source": [
    "import string\n",
    "regular_punct = list(string.punctuation)\n",
    "def remove_punctuation(text,punct_list):\n",
    "    for punc in punct_list:\n",
    "        if punc in text:\n",
    "            text = text.replace(punc, ' ')\n",
    "    return text.strip()\n",
    "\n",
    "line = remove_punctuation(line,regular_punct)"
   ]
  },
  {
   "cell_type": "code",
   "execution_count": 3,
   "id": "cce28efd",
   "metadata": {
    "scrolled": true
   },
   "outputs": [],
   "source": [
    "line = line.lower()"
   ]
  },
  {
   "cell_type": "code",
   "execution_count": 4,
   "id": "ac63e367",
   "metadata": {},
   "outputs": [
    {
     "data": {
      "text/plain": [
       "'life is a beautiful journey that is meant to be embraced to the fullest every day  however  that doesn t mean you always wake up ready to seize the day  and sometimes need a reminder that life is a great gift  whether a funny quote from a famous celebrity or an encouraging message about giving it your best from a successful business person  we can all use a little motivation and inspiration these days via a life quote'"
      ]
     },
     "execution_count": 4,
     "metadata": {},
     "output_type": "execute_result"
    }
   ],
   "source": [
    "line"
   ]
  },
  {
   "cell_type": "code",
   "execution_count": 5,
   "id": "66196fc1",
   "metadata": {},
   "outputs": [],
   "source": [
    "wordset = word_tokenize(line)"
   ]
  },
  {
   "cell_type": "code",
   "execution_count": 6,
   "id": "ceab3c32",
   "metadata": {
    "scrolled": true
   },
   "outputs": [],
   "source": [
    "from nltk.stem import WordNetLemmatizer\n",
    "#defining the object for Lemmatization\n",
    "wordnet_lemmatizer = WordNetLemmatizer()\n",
    "data = []"
   ]
  },
  {
   "cell_type": "code",
   "execution_count": 7,
   "id": "ced72682",
   "metadata": {},
   "outputs": [],
   "source": [
    "for i in range(len(wordset)):\n",
    "    words = [wordnet_lemmatizer.lemmatize(word) for word in wordset if word not in set(stopwords.words('english'))]\n",
    "    data = ' '.join(words)"
   ]
  },
  {
   "cell_type": "code",
   "execution_count": 8,
   "id": "25cbe6ab",
   "metadata": {},
   "outputs": [
    {
     "data": {
      "text/plain": [
       "'life beautiful journey meant embraced fullest every day however mean always wake ready seize day sometimes need reminder life great gift whether funny quote famous celebrity encouraging message giving best successful business person use little motivation inspiration day via life quote'"
      ]
     },
     "execution_count": 8,
     "metadata": {},
     "output_type": "execute_result"
    }
   ],
   "source": [
    "data"
   ]
  },
  {
   "cell_type": "code",
   "execution_count": 9,
   "id": "568283e7",
   "metadata": {
    "scrolled": true
   },
   "outputs": [],
   "source": [
    "data = data.split()\n",
    "file2 = open(\"filteredtext.txt\",'r+')\n",
    "file2  = file2.truncate()"
   ]
  },
  {
   "cell_type": "code",
   "execution_count": 10,
   "id": "29970a7b",
   "metadata": {
    "scrolled": true
   },
   "outputs": [],
   "source": [
    "for r in data:\n",
    "    appendFile = open('filteredtext.txt','a') \n",
    "    appendFile.write(\" \"+r) \n",
    "    appendFile.close() "
   ]
  },
  {
   "cell_type": "code",
   "execution_count": null,
   "id": "ba52de18",
   "metadata": {},
   "outputs": [],
   "source": []
  }
 ],
 "metadata": {
  "kernelspec": {
   "display_name": "Python 3 (ipykernel)",
   "language": "python",
   "name": "python3"
  },
  "language_info": {
   "codemirror_mode": {
    "name": "ipython",
    "version": 3
   },
   "file_extension": ".py",
   "mimetype": "text/x-python",
   "name": "python",
   "nbconvert_exporter": "python",
   "pygments_lexer": "ipython3",
   "version": "3.10.4"
  }
 },
 "nbformat": 4,
 "nbformat_minor": 5
}
