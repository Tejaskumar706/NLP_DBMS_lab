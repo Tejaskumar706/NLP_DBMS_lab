{
 "cells": [
  {
   "cell_type": "code",
   "execution_count": 60,
   "id": "be6c16f1",
   "metadata": {},
   "outputs": [
    {
     "name": "stdout",
     "output_type": "stream",
     "text": [
      "File corpus.txt :\n",
      "142477 lines, \n",
      "27661 words, \n",
      "3052 distinct words\n",
      "File corpus1.txt :\n",
      "49235 lines, \n",
      "9024 words, \n",
      "1579 distinct words\n",
      "The distance between the documents is:  0.659734 (radians)\n"
     ]
    }
   ],
   "source": [
    "import math\n",
    "import string\n",
    "import sys\n",
    "\n",
    "# reading the text file\n",
    "# This functio will return a\n",
    "# list of the lines of text\n",
    "# in the file.\n",
    "def read_file(filename):\n",
    "\n",
    "\ttry:\n",
    "\t\twith open(filename, 'r',encoding=\"utf8\") as f:\n",
    "\t\t\tdata = f.read()\n",
    "\t\treturn data\n",
    "\t\n",
    "\texcept IOError:\n",
    "\t\tprint(\"Error opening or reading input file: \", filename)\n",
    "\t\tsys.exit()\n",
    "\n",
    "# splitting the text lines into words\n",
    "# translation table is a global variable\n",
    "# mapping upper case to lower case and\n",
    "# punctuation to spaces\n",
    "translation_table = str.maketrans(string.punctuation+string.ascii_uppercase,\n",
    "\t\t\t\t\t\t\t\t\t\" \"*len(string.punctuation)+string.ascii_lowercase)\n",
    "\t\n",
    "# returns a list of the words\n",
    "# in the file\n",
    "def get_words_from_line_list(text):\n",
    "\t\n",
    "\ttext = text.translate(translation_table)\n",
    "\tword_list = text.split()\n",
    "\t\n",
    "\treturn word_list\n",
    "\n",
    "\n",
    "# counts frequency of each word\n",
    "# returns a dictionary which maps\n",
    "# the words to their frequency.\n",
    "def count_frequency(word_list):\n",
    "\t\n",
    "\tD = {}\n",
    "\t\n",
    "\tfor new_word in word_list:\n",
    "\t\t\n",
    "\t\tif new_word in D:\n",
    "\t\t\tD[new_word] = D[new_word] + 1\n",
    "\t\t\t\n",
    "\t\telse:\n",
    "\t\t\tD[new_word] = 1\n",
    "\t\t\t\n",
    "\treturn D\n",
    "\n",
    "# returns dictionary of (word, frequency)\n",
    "# pairs from the previous dictionary.\n",
    "def word_frequencies_for_file(filename):\n",
    "\t\n",
    "\tline_list = read_file(filename)\n",
    "\tword_list = get_words_from_line_list(line_list)\n",
    "\tfreq_mapping = count_frequency(word_list)\n",
    "\n",
    "\tprint(\"File\", filename, \":\", )\n",
    "\tprint(len(line_list), \"lines, \", )\n",
    "\tprint(len(word_list), \"words, \", )\n",
    "\tprint(len(freq_mapping), \"distinct words\")\n",
    "\n",
    "\treturn freq_mapping\n",
    "\n",
    "\n",
    "# returns the dot product of two documents\n",
    "def dotProduct(D1, D2):\n",
    "\tSum = 0.0\n",
    "\t\n",
    "\tfor key in D1:\n",
    "\t\t\n",
    "\t\tif key in D2:\n",
    "\t\t\tSum += (D1[key] * D2[key])\n",
    "\t\t\t\n",
    "\treturn Sum\n",
    "\n",
    "# returns the angle in radians\n",
    "# between document vectors\n",
    "def vector_angle(D1, D2):\n",
    "\tnumerator = dotProduct(D1, D2)\n",
    "\tdenominator = math.sqrt(dotProduct(D1, D1)*dotProduct(D2, D2))\n",
    "\t\n",
    "\treturn math.acos(numerator / denominator)\n",
    "\n",
    "\n",
    "def documentSimilarity(filename_1, filename_2):\n",
    "\t\n",
    "# filename_1 = sys.argv[1]\n",
    "# filename_2 = sys.argv[2]\n",
    "\tsorted_word_list_1 = word_frequencies_for_file(filename_1)\n",
    "\tsorted_word_list_2 = word_frequencies_for_file(filename_2)\n",
    "\tdistance = vector_angle(sorted_word_list_1, sorted_word_list_2)\n",
    "\t\n",
    "\tprint(\"The distance between the documents is: % 0.6f (radians)\"% distance)\n",
    "\t\n",
    "# Driver code\n",
    "documentSimilarity('corpus.txt', 'corpus1.txt')\n"
   ]
  },
  {
   "cell_type": "code",
   "execution_count": 61,
   "id": "94bfe37f",
   "metadata": {},
   "outputs": [],
   "source": [
    "import math\n",
    "import pandas as pd\n",
    "import numpy as np"
   ]
  },
  {
   "cell_type": "code",
   "execution_count": 62,
   "id": "45967ff9",
   "metadata": {},
   "outputs": [],
   "source": [
    "#documents\n",
    "file1 = open(\"text.txt\",'r')\n",
    "doc1 = file1.read()\n",
    "file2 = open(\"filteredtext.txt\",'r')\n",
    "doc2 = file2.read()\n",
    "#query string\n",
    "query = \"life quote\""
   ]
  },
  {
   "cell_type": "code",
   "execution_count": 63,
   "id": "c15f89d5",
   "metadata": {},
   "outputs": [
    {
     "name": "stdout",
     "output_type": "stream",
     "text": [
      "         Document  best  you  days  Life  successful  all  about  wake  your  \\\n",
      "0  Term Frequency     1    1     1     1           1    1      1     1     1   \n",
      "\n",
      "   ...  up  a  be  need  fullest  and  life  can  mean  to  \n",
      "0  ...   1  8   1     1        1    2     2    1     1   3  \n",
      "\n",
      "[1 rows x 61 columns]\n",
      "         Document     best  successful  wake  quote  sometimes  meant  via  \\\n",
      "0  Term Frequency  1     1           1     1      2          1      1    1   \n",
      "\n",
      "   journey  ...  always  funny  ready  inspiration  need  fullest  whether  \\\n",
      "0        1  ...       1      1      1            1     1        1        1   \n",
      "\n",
      "   life  day  mean  \n",
      "0     3    3     1  \n",
      "\n",
      "[1 rows x 38 columns]\n"
     ]
    }
   ],
   "source": [
    "#term -frequenvy :word occurences in a document\n",
    "def compute_tf(docs_list):\n",
    "    for doc in docs_list:\n",
    "        doc1_lst = doc.split(\" \")\n",
    "        wordDict_1= dict.fromkeys(set(doc1_lst), 0)\n",
    "\n",
    "        for token in doc1_lst:\n",
    "            wordDict_1[token] +=  1\n",
    "        df = pd.DataFrame([wordDict_1])\n",
    "        idx = 0\n",
    "        new_col = [\"Term Frequency\"]    \n",
    "        df.insert(loc=idx, column='Document', value=new_col)\n",
    "        print(df)\n",
    "        \n",
    "compute_tf([doc1, doc2])"
   ]
  },
  {
   "cell_type": "code",
   "execution_count": 64,
   "id": "50ed75e7",
   "metadata": {},
   "outputs": [
    {
     "name": "stdout",
     "output_type": "stream",
     "text": [
      "        Document      best       you      days      Life  successful  \\\n",
      "0  Normalized TF  0.012987  0.012987  0.012987  0.038961    0.012987   \n",
      "\n",
      "        all     about      wake      your  ...        up         a        be  \\\n",
      "0  0.012987  0.012987  0.012987  0.012987  ...  0.012987  0.103896  0.012987   \n",
      "\n",
      "       need   fullest       and      life       can      mean        to  \n",
      "0  0.012987  0.012987  0.025974  0.038961  0.012987  0.012987  0.038961  \n",
      "\n",
      "[1 rows x 61 columns]\n",
      "        Document     best  successful     wake    quote  sometimes    meant  \\\n",
      "0  Normalized TF  0.02439     0.02439  0.02439  0.04878    0.02439  0.02439   \n",
      "\n",
      "       via  journey  business  ...   always    funny    ready  inspiration  \\\n",
      "0  0.02439  0.02439   0.02439  ...  0.02439  0.02439  0.02439      0.02439   \n",
      "\n",
      "      need  fullest  whether      life       day     mean  \n",
      "0  0.02439  0.02439  0.02439  0.073171  0.073171  0.02439  \n",
      "\n",
      "[1 rows x 37 columns]\n"
     ]
    }
   ],
   "source": [
    "#Normalized Term Frequency\n",
    "def termFrequency(term, document):\n",
    "    normalizeDocument = document.lower().split()\n",
    "    return normalizeDocument.count(term.lower()) / float(len(normalizeDocument))\n",
    "\n",
    "def compute_normalizedtf(documents):\n",
    "    tf_doc = []\n",
    "    for txt in documents:\n",
    "        sentence = txt.split()\n",
    "        norm_tf= dict.fromkeys(set(sentence), 0)\n",
    "        for word in sentence:\n",
    "            norm_tf[word] = termFrequency(word, txt)\n",
    "        tf_doc.append(norm_tf)\n",
    "        df = pd.DataFrame([norm_tf])\n",
    "        idx = 0\n",
    "        new_col = [\"Normalized TF\"]    \n",
    "        df.insert(loc=idx, column='Document', value=new_col)\n",
    "        print(df)\n",
    "    return tf_doc\n",
    "\n",
    "tf_doc = compute_normalizedtf([doc1, doc2])"
   ]
  },
  {
   "cell_type": "code",
   "execution_count": 65,
   "id": "434504ce",
   "metadata": {},
   "outputs": [
    {
     "data": {
      "text/plain": [
       "{'Life': 1.0,\n",
       " 'is': 1.6931471805599454,\n",
       " 'a': 1.6931471805599454,\n",
       " 'beautiful': 1.0,\n",
       " 'journey': 1.0,\n",
       " 'that': 1.6931471805599454,\n",
       " 'meant': 1.0,\n",
       " 'to': 1.6931471805599454,\n",
       " 'be': 1.6931471805599454,\n",
       " 'embraced': 1.0,\n",
       " 'the': 1.6931471805599454,\n",
       " 'fullest': 1.0,\n",
       " 'every': 1.0,\n",
       " 'day.': 1.6931471805599454,\n",
       " 'However,': 1.6931471805599454,\n",
       " \"doesn't\": 1.6931471805599454,\n",
       " 'mean': 1.0,\n",
       " 'you': 1.6931471805599454,\n",
       " 'always': 1.0,\n",
       " 'wake': 1.0,\n",
       " 'up': 1.6931471805599454,\n",
       " 'ready': 1.0,\n",
       " 'seize': 1.0,\n",
       " 'day,': 1.6931471805599454,\n",
       " 'and': 1.6931471805599454,\n",
       " 'sometimes': 1.0,\n",
       " 'need': 1.0,\n",
       " 'reminder': 1.0,\n",
       " 'life': 1.0,\n",
       " 'great': 1.0,\n",
       " 'gift.': 1.6931471805599454,\n",
       " 'Whether': 1.0,\n",
       " 'funny': 1.0,\n",
       " 'quote': 1.0,\n",
       " 'from': 1.6931471805599454,\n",
       " 'famous': 1.0,\n",
       " 'celebrity': 1.0,\n",
       " 'or': 1.6931471805599454,\n",
       " 'an': 1.6931471805599454,\n",
       " 'encouraging': 1.0,\n",
       " 'message': 1.0,\n",
       " 'about': 1.6931471805599454,\n",
       " 'giving': 1.0,\n",
       " 'it': 1.6931471805599454,\n",
       " 'your': 1.6931471805599454,\n",
       " 'best': 1.0,\n",
       " 'successful': 1.0,\n",
       " 'business': 1.0,\n",
       " 'person,': 1.6931471805599454,\n",
       " 'we': 1.6931471805599454,\n",
       " 'can': 1.6931471805599454,\n",
       " 'all': 1.6931471805599454,\n",
       " 'use': 1.0,\n",
       " 'little': 1.0,\n",
       " 'motivation': 1.0,\n",
       " 'inspiration': 1.0,\n",
       " 'these': 1.6931471805599454,\n",
       " 'days': 1.6931471805599454,\n",
       " 'via': 1.0,\n",
       " 'quote.': 1.6931471805599454,\n",
       " 'day': 1.6931471805599454,\n",
       " 'however': 1.6931471805599454,\n",
       " 'gift': 1.6931471805599454,\n",
       " 'whether': 1.0,\n",
       " 'person': 1.6931471805599454}"
      ]
     },
     "execution_count": 65,
     "metadata": {},
     "output_type": "execute_result"
    }
   ],
   "source": [
    "def inverseDocumentFrequency(term, allDocuments):\n",
    "    numDocumentsWithThisTerm = 0\n",
    "    for doc in range (0, len(allDocuments)):\n",
    "        if term.lower() in allDocuments[doc].lower().split():\n",
    "            numDocumentsWithThisTerm = numDocumentsWithThisTerm + 1\n",
    " \n",
    "    if numDocumentsWithThisTerm > 0:\n",
    "        return 1.0 + math.log(float(len(allDocuments)) / numDocumentsWithThisTerm)\n",
    "    else:\n",
    "        return 1.0\n",
    "    \n",
    "def compute_idf(documents):\n",
    "    idf_dict = {}\n",
    "    for doc in documents:\n",
    "        sentence = doc.split()\n",
    "        for word in sentence:\n",
    "            idf_dict[word] = inverseDocumentFrequency(word, documents)\n",
    "    return idf_dict\n",
    "idf_dict = compute_idf([doc1, doc2])\n",
    "\n",
    "compute_idf([doc1, doc2])"
   ]
  },
  {
   "cell_type": "code",
   "execution_count": 66,
   "id": "cb98f9e2",
   "metadata": {},
   "outputs": [
    {
     "name": "stdout",
     "output_type": "stream",
     "text": [
      "   doc      life     quote\n",
      "0  0.0  0.038961  0.012987\n",
      "1  1.0  0.073171  0.048780\n"
     ]
    }
   ],
   "source": [
    "# tf-idf score across all docs for the query string(\"life learning\")\n",
    "def compute_tfidf_with_alldocs(documents , query):\n",
    "    tf_idf = []\n",
    "    index = 0\n",
    "    query_tokens = query.split()\n",
    "    df = pd.DataFrame(columns=['doc'] + query_tokens)\n",
    "    for doc in documents:\n",
    "        df['doc'] = np.arange(0 , len(documents))\n",
    "        doc_num = tf_doc[index]\n",
    "        sentence = doc.split()\n",
    "        for word in sentence:\n",
    "            for text in query_tokens:\n",
    "                if(text == word):\n",
    "                    idx = sentence.index(word)\n",
    "                    tf_idf_score = doc_num[word] * idf_dict[word]\n",
    "                    tf_idf.append(tf_idf_score)\n",
    "                    df.iloc[index, df.columns.get_loc(word)] = tf_idf_score\n",
    "        index += 1\n",
    "    df.fillna(0 , axis=1, inplace=True)\n",
    "    return tf_idf , df\n",
    "            \n",
    "documents = [doc1, doc2]\n",
    "tf_idf , df = compute_tfidf_with_alldocs(documents , query)\n",
    "print(df)"
   ]
  },
  {
   "cell_type": "code",
   "execution_count": 67,
   "id": "ed959a99",
   "metadata": {},
   "outputs": [
    {
     "data": {
      "image/jpeg": "[encoded data removed]",
      "text/plain": [
       "<IPython.core.display.Image object>"
      ]
     },
     "execution_count": 67,
     "metadata": {},
     "output_type": "execute_result"
    }
   ],
   "source": [
    "from IPython.display import Image\n",
    "Image(filename=\"cosinesimilarity.jpg\")"
   ]
  },
  {
   "cell_type": "code",
   "execution_count": 68,
   "id": "2c5d5b38",
   "metadata": {},
   "outputs": [
    {
     "name": "stdout",
     "output_type": "stream",
     "text": [
      "{'life': 0.5, 'quote': 0.5}\n"
     ]
    }
   ],
   "source": [
    "#Normalized TF for the query string(\"life learning\")\n",
    "def compute_query_tf(query):\n",
    "    query_norm_tf = {}\n",
    "    tokens = query.split()\n",
    "    for word in tokens:\n",
    "        query_norm_tf[word] = termFrequency(word , query)\n",
    "    return query_norm_tf\n",
    "query_norm_tf = compute_query_tf(query)\n",
    "print(query_norm_tf)"
   ]
  },
  {
   "cell_type": "code",
   "execution_count": 69,
   "id": "a0cf8157",
   "metadata": {},
   "outputs": [
    {
     "name": "stdout",
     "output_type": "stream",
     "text": [
      "{'life': 1.0, 'quote': 1.0}\n"
     ]
    }
   ],
   "source": [
    "#idf score for the query string(\"life learning\")\n",
    "def compute_query_idf(query):\n",
    "    idf_dict_qry = {}\n",
    "    sentence = query.split()\n",
    "    documents = [doc1, doc2]\n",
    "    for word in sentence:\n",
    "        idf_dict_qry[word] = inverseDocumentFrequency(word ,documents)\n",
    "    return idf_dict_qry\n",
    "idf_dict_qry = compute_query_idf(query)\n",
    "print(idf_dict_qry)"
   ]
  },
  {
   "cell_type": "code",
   "execution_count": 70,
   "id": "ef101fcb",
   "metadata": {},
   "outputs": [
    {
     "name": "stdout",
     "output_type": "stream",
     "text": [
      "{'life': 0.5, 'quote': 0.5}\n"
     ]
    }
   ],
   "source": [
    "#tf-idf score for the query string(\"life learning\")\n",
    "def compute_query_tfidf(query):\n",
    "    tfidf_dict_qry = {}\n",
    "    sentence = query.split()\n",
    "    for word in sentence:\n",
    "        tfidf_dict_qry[word] = query_norm_tf[word] * idf_dict_qry[word]\n",
    "    return tfidf_dict_qry\n",
    "tfidf_dict_qry = compute_query_tfidf(query)\n",
    "print(tfidf_dict_qry)"
   ]
  },
  {
   "cell_type": "code",
   "execution_count": 71,
   "id": "70a79491",
   "metadata": {},
   "outputs": [],
   "source": [
    "#import collections.abc\n",
    "#Cosine Similarity(Query,Document1) = Dot product(Query, Document1) / ||Query|| * ||Document1||\n",
    "\n",
    "\"\"\"\n",
    "Example : Dot roduct(Query, Document1) \n",
    "\n",
    "     life:\n",
    "     = tfidf(life w.r.t query) * tfidf(life w.r.t Document1) +  / \n",
    "     sqrt(tfidf(life w.r.t query)) * \n",
    "     sqrt(tfidf(life w.r.t doc1))\n",
    "     \n",
    "     learning:\n",
    "     =tfidf(learning w.r.t query) * tfidf(learning w.r.t Document1)/\n",
    "     sqrt(tfidf(learning w.r.t query)) * \n",
    "     sqrt(tfidf(learning w.r.t doc1))\n",
    "\n",
    "\"\"\"\n",
    "def cosine_similarity(tfidf_dict_qry, df , query , doc_num):\n",
    "    dot_product = 0\n",
    "    qry_mod = 0\n",
    "    doc_mod = 0\n",
    "    tokens = query.split()\n",
    "   \n",
    "    for keyword in tokens:\n",
    "        dot_product += tfidf_dict_qry[keyword] * df[keyword][df['doc'] == doc_num]\n",
    "        #||Query||\n",
    "        qry_mod += tfidf_dict_qry[keyword] * tfidf_dict_qry[keyword]\n",
    "        #||Document||\n",
    "        doc_mod += df[keyword][df['doc'] == doc_num] * df[keyword][df['doc'] == doc_num]\n",
    "    qry_mod = np.sqrt(qry_mod)\n",
    "    doc_mod = np.sqrt(doc_mod)\n",
    "    #implement formula\n",
    "    denominator = qry_mod * doc_mod\n",
    "    cos_sim = dot_product/denominator\n",
    "     \n",
    "    return cos_sim\n",
    "\n",
    "from collections.abc import Iterable\n",
    "def flatten(lis):\n",
    "     for item in lis:\n",
    "        if isinstance(item, Iterable) and not isinstance(item, str):\n",
    "             for x in flatten(item):\n",
    "                yield x\n",
    "        else:        \n",
    "             yield item"
   ]
  },
  {
   "cell_type": "code",
   "execution_count": 72,
   "id": "a60ef289",
   "metadata": {},
   "outputs": [
    {
     "name": "stdout",
     "output_type": "stream",
     "text": [
      "['Document1', 'Document2']\n",
      "[0.8944271909999159, 0.9805806756909201]\n"
     ]
    }
   ],
   "source": [
    "def rank_similarity_docs(data):\n",
    "    cos_sim =[]\n",
    "    for doc_num in range(0 , len(data)):\n",
    "        cos_sim.append(cosine_similarity(tfidf_dict_qry, df , query , doc_num).tolist())\n",
    "    return cos_sim\n",
    "similarity_docs = rank_similarity_docs(documents)\n",
    "doc_names = [\"Document1\", \"Document2\"]\n",
    "print(doc_names)\n",
    "print(list(flatten(similarity_docs)))"
   ]
  },
  {
   "cell_type": "code",
   "execution_count": 73,
   "id": "c96ab1a6",
   "metadata": {},
   "outputs": [
    {
     "data": {
      "image/jpeg": "[encoded data removed]",
      "text/plain": [
       "<IPython.core.display.Image object>"
      ]
     },
     "execution_count": 73,
     "metadata": {},
     "output_type": "execute_result"
    }
   ],
   "source": [
    "from IPython.display import Image\n",
    "Image(filename=\"cosinesimilarity11.jpg\")"
   ]
  },
  {
   "cell_type": "code",
   "execution_count": null,
   "id": "e0b21c29",
   "metadata": {},
   "outputs": [],
   "source": []
  },
  {
   "cell_type": "code",
   "execution_count": null,
   "id": "efdc32d1",
   "metadata": {},
   "outputs": [],
   "source": []
  },
  {
   "cell_type": "code",
   "execution_count": null,
   "id": "0cef5f89",
   "metadata": {},
   "outputs": [],
   "source": []
  }
 ],
 "metadata": {
  "kernelspec": {
   "display_name": "Python 3 (ipykernel)",
   "language": "python",
   "name": "python3"
  },
  "language_info": {
   "codemirror_mode": {
    "name": "ipython",
    "version": 3
   },
   "file_extension": ".py",
   "mimetype": "text/x-python",
   "name": "python",
   "nbconvert_exporter": "python",
   "pygments_lexer": "ipython3",
   "version": "3.10.4"
  }
 },
 "nbformat": 4,
 "nbformat_minor": 5
}
